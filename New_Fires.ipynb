{
 "cells": [
  {
   "cell_type": "code",
   "execution_count": null,
   "metadata": {},
   "outputs": [],
   "source": [
    "# from matplotlib import style\n",
    "# import matplotlib.pyplot as plt "
   ]
  },
  {
   "cell_type": "code",
   "execution_count": null,
   "metadata": {},
   "outputs": [],
   "source": [
    "import numpy as np\n",
    "import pandas as pd"
   ]
  },
  {
   "cell_type": "code",
   "execution_count": null,
   "metadata": {},
   "outputs": [],
   "source": [
    "# import sqlalchemy\n",
    "# from sqlalchemy.ext.automap import automap_base\n",
    "# from sqlalchemy.orm import Session\n",
    "# from sqlalchemy import create_engine, func"
   ]
  },
  {
   "cell_type": "code",
   "execution_count": null,
   "metadata": {},
   "outputs": [],
   "source": [
    "fires_df = pd.read_csv('Fires.csv')\n",
    "drought_df = pd.read_csv('./Dillon/SPI-texas.csv')\n",
    "drought_df2 = pd.read_csv('./Dillon/PALEO-texas.csv')"
   ]
  },
  {
   "cell_type": "code",
   "execution_count": null,
   "metadata": {},
   "outputs": [],
   "source": [
    "fires_df"
   ]
  },
  {
   "cell_type": "code",
   "execution_count": null,
   "metadata": {},
   "outputs": [],
   "source": [
    "fires_clean = fires_df[fires_df[\"STATE\"] == \"TX\"]\n",
    "fires_clean"
   ]
  },
  {
   "cell_type": "code",
   "execution_count": null,
   "metadata": {},
   "outputs": [],
   "source": [
    "fires_clean = fires_clean[['STATE', 'FIRE_YEAR', 'FIRE_SIZE', 'FIRE_SIZE_CLASS',\n",
    "       'STAT_CAUSE_DESCR', 'LATITUDE', 'LONGITUDE']]\n",
    "fires_clean.head()"
   ]
  },
  {
   "cell_type": "code",
   "execution_count": null,
   "metadata": {},
   "outputs": [],
   "source": [
    "acres_by_year = fires_clean.groupby(['FIRE_YEAR']).sum()\n",
    "acres_by_year = acres_by_year['FIRE_SIZE']\n",
    "acres_by_year"
   ]
  },
  {
   "cell_type": "code",
   "execution_count": null,
   "metadata": {},
   "outputs": [],
   "source": [
    "acres_by_class = fires_clean.groupby(['FIRE_SIZE_CLASS']).sum()\n",
    "acres_by_class = acres_by_class['FIRE_SIZE']\n",
    "acres_by_class"
   ]
  },
  {
   "cell_type": "code",
   "execution_count": null,
   "metadata": {},
   "outputs": [],
   "source": [
    "acres_by_cause = fires_clean.groupby(['STAT_CAUSE_DESCR']).sum()\n",
    "acres_by_cause = acres_by_cause['FIRE_SIZE']\n",
    "acres_by_cause"
   ]
  },
  {
   "cell_type": "code",
   "execution_count": null,
   "metadata": {},
   "outputs": [],
   "source": [
    "yrs = fires_clean['FIRE_YEAR'].unique()\n",
    "yrs.sort(axis=0)\n",
    "yrs"
   ]
  },
  {
   "cell_type": "code",
   "execution_count": null,
   "metadata": {},
   "outputs": [],
   "source": [
    "year_range = pd.DataFrame({'YEAR': yrs})\n",
    "year_range"
   ]
  },
  {
   "cell_type": "code",
   "execution_count": null,
   "metadata": {},
   "outputs": [],
   "source": [
    "fire_causes = pd.DataFrame({'CAUSE': fires_clean['STAT_CAUSE_DESCR'].unique()})\n",
    "fire_causes"
   ]
  },
  {
   "cell_type": "code",
   "execution_count": null,
   "metadata": {},
   "outputs": [],
   "source": [
    "drought_df = drought_df[drought_df.index > 1164]\n",
    "drought_df = drought_df[drought_df.index < 1452]\n",
    "drought_df"
   ]
  },
  {
   "cell_type": "code",
   "execution_count": null,
   "metadata": {},
   "outputs": [],
   "source": [
    "drought_df['DATE'] = drought_df['DATE'].map(lambda x: x.lstrip('d_').rstrip('d_'))\n",
    "drought_df"
   ]
  },
  {
   "cell_type": "code",
   "execution_count": null,
   "metadata": {},
   "outputs": [],
   "source": [
    "drought_df2 = drought_df2[drought_df2.index > 1991]\n",
    "drought_df2 = drought_df2[drought_df2.index < 2016]\n",
    "drought_df2"
   ]
  },
  {
   "cell_type": "code",
   "execution_count": null,
   "metadata": {},
   "outputs": [],
   "source": [
    "drought_df2['DATE'] = drought_df2['DATE'].map(lambda x: x.lstrip('year_').rstrip('year_'))\n",
    "drought_df2['DATE']"
   ]
  },
  {
   "cell_type": "code",
   "execution_count": null,
   "metadata": {},
   "outputs": [],
   "source": [
    "drought_df2"
   ]
  },
  {
   "cell_type": "code",
   "execution_count": null,
   "metadata": {},
   "outputs": [],
   "source": [
    "fires_clean.to_csv('fires_clean2.csv', index=False)\n",
    "year_range.to_csv('./Dillon/year_range.csv', index=False)\n",
    "fire_causes.to_csv('./Dillon/fire_causes.csv', index=False)\n",
    "drought_df.to_csv('./Dillon/SPI-tx.csv', index=False)\n",
    "drought_df2.to_csv('./Dillon/PALEO-tx.csv', index=False)\n",
    "acres_by_cause.to_csv('./Dillon/acres_by_cause', index=False)\n",
    "acres_by_class.to_csv('./Dillon/acres_by_class', index=False)\n",
    "acres_by_year.to_csv('./Dillon/acres_by_year', index=False)"
   ]
  }
 ],
 "metadata": {
  "interpreter": {
   "hash": "ad4e1cdc6d2df6b78adfa9d5dade8a91d4fb637b81e67ab4fabe1812f655f6f5"
  },
  "kernelspec": {
   "display_name": "Python 3.6.10 64-bit ('PyEnv': conda)",
   "name": "python3"
  },
  "language_info": {
   "codemirror_mode": {
    "name": "ipython",
    "version": 3
   },
   "file_extension": ".py",
   "mimetype": "text/x-python",
   "name": "python",
   "nbconvert_exporter": "python",
   "pygments_lexer": "ipython3",
   "version": "3.6.10"
  }
 },
 "nbformat": 4,
 "nbformat_minor": 5
}
