{
 "cells": [
  {
   "cell_type": "code",
   "execution_count": 1,
   "id": "aa460f72",
   "metadata": {},
   "outputs": [],
   "source": [
    "from matplotlib import style\n",
    "import matplotlib.pyplot as plt "
   ]
  },
  {
   "cell_type": "code",
   "execution_count": 2,
   "id": "e5cbfee8",
   "metadata": {},
   "outputs": [],
   "source": [
    "import numpy as np\n",
    "import pandas as pd"
   ]
  },
  {
   "cell_type": "code",
   "execution_count": 3,
   "id": "0690058b",
   "metadata": {},
   "outputs": [],
   "source": [
    "import sqlalchemy\n",
    "from sqlalchemy.ext.automap import automap_base\n",
    "from sqlalchemy.orm import Session\n",
    "from sqlalchemy import create_engine, func"
   ]
  },
  {
   "cell_type": "code",
   "execution_count": 4,
   "id": "3efa0daa",
   "metadata": {},
   "outputs": [],
   "source": [
    "fires_df = pd.read_csv('../Fires.csv')"
   ]
  },
  {
   "cell_type": "code",
   "execution_count": 7,
   "id": "5fbd02a5",
   "metadata": {},
   "outputs": [
    {
     "data": {
      "text/html": [
       "<div>\n",
       "<style scoped>\n",
       "    .dataframe tbody tr th:only-of-type {\n",
       "        vertical-align: middle;\n",
       "    }\n",
       "\n",
       "    .dataframe tbody tr th {\n",
       "        vertical-align: top;\n",
       "    }\n",
       "\n",
       "    .dataframe thead th {\n",
       "        text-align: right;\n",
       "    }\n",
       "</style>\n",
       "<table border=\"1\" class=\"dataframe\">\n",
       "  <thead>\n",
       "    <tr style=\"text-align: right;\">\n",
       "      <th></th>\n",
       "      <th>Unnamed: 0</th>\n",
       "      <th>STATE</th>\n",
       "      <th>FIRE_YEAR</th>\n",
       "      <th>FIRE_SIZE</th>\n",
       "      <th>FIRE_SIZE_CLASS</th>\n",
       "      <th>STAT_CAUSE_DESCR</th>\n",
       "      <th>LATITUDE</th>\n",
       "      <th>LONGITUDE</th>\n",
       "    </tr>\n",
       "  </thead>\n",
       "  <tbody>\n",
       "    <tr>\n",
       "      <th>283</th>\n",
       "      <td>283</td>\n",
       "      <td>TX</td>\n",
       "      <td>2005</td>\n",
       "      <td>3.0</td>\n",
       "      <td>B</td>\n",
       "      <td>Arson</td>\n",
       "      <td>33.786111</td>\n",
       "      <td>-96.150000</td>\n",
       "    </tr>\n",
       "    <tr>\n",
       "      <th>284</th>\n",
       "      <td>284</td>\n",
       "      <td>TX</td>\n",
       "      <td>2005</td>\n",
       "      <td>55.0</td>\n",
       "      <td>C</td>\n",
       "      <td>Debris Burning</td>\n",
       "      <td>31.312500</td>\n",
       "      <td>-94.270833</td>\n",
       "    </tr>\n",
       "    <tr>\n",
       "      <th>285</th>\n",
       "      <td>285</td>\n",
       "      <td>TX</td>\n",
       "      <td>2005</td>\n",
       "      <td>2.0</td>\n",
       "      <td>B</td>\n",
       "      <td>Campfire</td>\n",
       "      <td>33.345833</td>\n",
       "      <td>-97.595833</td>\n",
       "    </tr>\n",
       "    <tr>\n",
       "      <th>286</th>\n",
       "      <td>286</td>\n",
       "      <td>TX</td>\n",
       "      <td>2005</td>\n",
       "      <td>0.3</td>\n",
       "      <td>B</td>\n",
       "      <td>Smoking</td>\n",
       "      <td>31.386667</td>\n",
       "      <td>-95.150556</td>\n",
       "    </tr>\n",
       "    <tr>\n",
       "      <th>287</th>\n",
       "      <td>287</td>\n",
       "      <td>TX</td>\n",
       "      <td>2005</td>\n",
       "      <td>55.0</td>\n",
       "      <td>C</td>\n",
       "      <td>Lightning</td>\n",
       "      <td>31.354167</td>\n",
       "      <td>-95.085278</td>\n",
       "    </tr>\n",
       "  </tbody>\n",
       "</table>\n",
       "</div>"
      ],
      "text/plain": [
       "     Unnamed: 0 STATE  FIRE_YEAR  FIRE_SIZE FIRE_SIZE_CLASS STAT_CAUSE_DESCR  \\\n",
       "283         283    TX       2005        3.0               B            Arson   \n",
       "284         284    TX       2005       55.0               C   Debris Burning   \n",
       "285         285    TX       2005        2.0               B         Campfire   \n",
       "286         286    TX       2005        0.3               B          Smoking   \n",
       "287         287    TX       2005       55.0               C        Lightning   \n",
       "\n",
       "      LATITUDE  LONGITUDE  \n",
       "283  33.786111 -96.150000  \n",
       "284  31.312500 -94.270833  \n",
       "285  33.345833 -97.595833  \n",
       "286  31.386667 -95.150556  \n",
       "287  31.354167 -95.085278  "
      ]
     },
     "execution_count": 7,
     "metadata": {},
     "output_type": "execute_result"
    }
   ],
   "source": [
    "fires_clean = fires_df[fires_df[\"STATE\"] == \"TX\"]\n",
    "fires_clean.head()"
   ]
  },
  {
   "cell_type": "code",
   "execution_count": 8,
   "id": "87466ec6",
   "metadata": {},
   "outputs": [
    {
     "data": {
      "text/plain": [
       "array(['Arson', 'Debris Burning', 'Campfire', 'Smoking', 'Lightning',\n",
       "       'Equipment Use', 'Miscellaneous', 'Children', 'Railroad',\n",
       "       'Fireworks', 'Powerline', 'Missing/Undefined', 'Structure'],\n",
       "      dtype=object)"
      ]
     },
     "execution_count": 8,
     "metadata": {},
     "output_type": "execute_result"
    }
   ],
   "source": [
    "fires_clean['STAT_CAUSE_DESCR'].unique()"
   ]
  },
  {
   "cell_type": "code",
   "execution_count": 10,
   "id": "f776b569",
   "metadata": {},
   "outputs": [
    {
     "data": {
      "text/html": [
       "<div>\n",
       "<style scoped>\n",
       "    .dataframe tbody tr th:only-of-type {\n",
       "        vertical-align: middle;\n",
       "    }\n",
       "\n",
       "    .dataframe tbody tr th {\n",
       "        vertical-align: top;\n",
       "    }\n",
       "\n",
       "    .dataframe thead th {\n",
       "        text-align: right;\n",
       "    }\n",
       "</style>\n",
       "<table border=\"1\" class=\"dataframe\">\n",
       "  <thead>\n",
       "    <tr style=\"text-align: right;\">\n",
       "      <th></th>\n",
       "      <th>STATE</th>\n",
       "      <th>FIRE_YEAR</th>\n",
       "      <th>FIRE_SIZE</th>\n",
       "      <th>FIRE_SIZE_CLASS</th>\n",
       "      <th>STAT_CAUSE_DESCR</th>\n",
       "      <th>LATITUDE</th>\n",
       "      <th>LONGITUDE</th>\n",
       "    </tr>\n",
       "  </thead>\n",
       "  <tbody>\n",
       "    <tr>\n",
       "      <th>283</th>\n",
       "      <td>TX</td>\n",
       "      <td>2005</td>\n",
       "      <td>3.0</td>\n",
       "      <td>B</td>\n",
       "      <td>Arson</td>\n",
       "      <td>33.786111</td>\n",
       "      <td>-96.150000</td>\n",
       "    </tr>\n",
       "    <tr>\n",
       "      <th>284</th>\n",
       "      <td>TX</td>\n",
       "      <td>2005</td>\n",
       "      <td>55.0</td>\n",
       "      <td>C</td>\n",
       "      <td>Debris Burning</td>\n",
       "      <td>31.312500</td>\n",
       "      <td>-94.270833</td>\n",
       "    </tr>\n",
       "    <tr>\n",
       "      <th>285</th>\n",
       "      <td>TX</td>\n",
       "      <td>2005</td>\n",
       "      <td>2.0</td>\n",
       "      <td>B</td>\n",
       "      <td>Campfire</td>\n",
       "      <td>33.345833</td>\n",
       "      <td>-97.595833</td>\n",
       "    </tr>\n",
       "    <tr>\n",
       "      <th>286</th>\n",
       "      <td>TX</td>\n",
       "      <td>2005</td>\n",
       "      <td>0.3</td>\n",
       "      <td>B</td>\n",
       "      <td>Smoking</td>\n",
       "      <td>31.386667</td>\n",
       "      <td>-95.150556</td>\n",
       "    </tr>\n",
       "    <tr>\n",
       "      <th>287</th>\n",
       "      <td>TX</td>\n",
       "      <td>2005</td>\n",
       "      <td>55.0</td>\n",
       "      <td>C</td>\n",
       "      <td>Lightning</td>\n",
       "      <td>31.354167</td>\n",
       "      <td>-95.085278</td>\n",
       "    </tr>\n",
       "  </tbody>\n",
       "</table>\n",
       "</div>"
      ],
      "text/plain": [
       "    STATE  FIRE_YEAR  FIRE_SIZE FIRE_SIZE_CLASS STAT_CAUSE_DESCR   LATITUDE  \\\n",
       "283    TX       2005        3.0               B            Arson  33.786111   \n",
       "284    TX       2005       55.0               C   Debris Burning  31.312500   \n",
       "285    TX       2005        2.0               B         Campfire  33.345833   \n",
       "286    TX       2005        0.3               B          Smoking  31.386667   \n",
       "287    TX       2005       55.0               C        Lightning  31.354167   \n",
       "\n",
       "     LONGITUDE  \n",
       "283 -96.150000  \n",
       "284 -94.270833  \n",
       "285 -97.595833  \n",
       "286 -95.150556  \n",
       "287 -95.085278  "
      ]
     },
     "execution_count": 10,
     "metadata": {},
     "output_type": "execute_result"
    }
   ],
   "source": [
    "fires_clean.head()"
   ]
  },
  {
   "cell_type": "code",
   "execution_count": 11,
   "id": "d13a8dfe",
   "metadata": {},
   "outputs": [],
   "source": [
    "fires_clean.to_csv('fires_clean2.csv', index=False)"
   ]
  },
  {
   "cell_type": "code",
   "execution_count": null,
   "id": "b0ae584f",
   "metadata": {},
   "outputs": [],
   "source": []
  }
 ],
 "metadata": {
  "kernelspec": {
   "display_name": "Python 3",
   "language": "python",
   "name": "python3"
  },
  "language_info": {
   "codemirror_mode": {
    "name": "ipython",
    "version": 3
   },
   "file_extension": ".py",
   "mimetype": "text/x-python",
   "name": "python",
   "nbconvert_exporter": "python",
   "pygments_lexer": "ipython3",
   "version": "3.8.8"
  }
 },
 "nbformat": 4,
 "nbformat_minor": 5
}
